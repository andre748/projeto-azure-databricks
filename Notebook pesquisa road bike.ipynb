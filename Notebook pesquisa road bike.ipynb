{
 "cells": [
  {
   "cell_type": "code",
   "execution_count": 0,
   "metadata": {
    "application/vnd.databricks.v1+cell": {
     "cellMetadata": {
      "byteLimit": 2048000,
      "rowLimit": 10000
     },
     "inputWidgets": {},
     "nuid": "beeab1b6-f56c-4a0e-b919-d1d405b5db0b",
     "showTitle": false,
     "tableResultSettingsMap": {},
     "title": ""
    }
   },
   "outputs": [
    {
     "output_type": "display_data",
     "data": {
      "text/html": [
       "<style scoped>\n",
       "  .table-result-container {\n",
       "    max-height: 300px;\n",
       "    overflow: auto;\n",
       "  }\n",
       "  table, th, td {\n",
       "    border: 1px solid black;\n",
       "    border-collapse: collapse;\n",
       "  }\n",
       "  th, td {\n",
       "    padding: 5px;\n",
       "  }\n",
       "  th {\n",
       "    text-align: left;\n",
       "  }\n",
       "</style><div class='table-result-container'><table class='table-result'><thead style='background-color: white'><tr><th>ProductID</th><th>ProductName</th><th>Category</th><th>ListPrice</th></tr></thead><tbody><tr><td>973</td><td>Road-350-W Yellow, 40</td><td>Road Bikes</td><td>1700.99</td></tr><tr><td>974</td><td>Road-350-W Yellow, 42</td><td>Road Bikes</td><td>1700.99</td></tr><tr><td>975</td><td>Road-350-W Yellow, 44</td><td>Road Bikes</td><td>1700.99</td></tr><tr><td>976</td><td>Road-350-W Yellow, 48</td><td>Road Bikes</td><td>1700.99</td></tr><tr><td>977</td><td>Road-750 Black, 58</td><td>Road Bikes</td><td>539.99</td></tr><tr><td>997</td><td>Road-750 Black, 44</td><td>Road Bikes</td><td>539.99</td></tr><tr><td>998</td><td>Road-750 Black, 48</td><td>Road Bikes</td><td>539.99</td></tr><tr><td>999</td><td>Road-750 Black, 52</td><td>Road Bikes</td><td>539.99</td></tr><tr><td>789</td><td>Road-250 Red, 44</td><td>Road Bikes</td><td>2443.35</td></tr><tr><td>790</td><td>Road-250 Red, 48</td><td>Road Bikes</td><td>2443.35</td></tr><tr><td>791</td><td>Road-250 Red, 52</td><td>Road Bikes</td><td>2443.35</td></tr><tr><td>792</td><td>Road-250 Red, 58</td><td>Road Bikes</td><td>2443.35</td></tr><tr><td>793</td><td>Road-250 Black, 44</td><td>Road Bikes</td><td>2443.35</td></tr><tr><td>794</td><td>Road-250 Black, 48</td><td>Road Bikes</td><td>2443.35</td></tr><tr><td>795</td><td>Road-250 Black, 52</td><td>Road Bikes</td><td>2443.35</td></tr><tr><td>796</td><td>Road-250 Black, 58</td><td>Road Bikes</td><td>2443.35</td></tr><tr><td>797</td><td>Road-550-W Yellow, 38</td><td>Road Bikes</td><td>1120.49</td></tr><tr><td>798</td><td>Road-550-W Yellow, 40</td><td>Road Bikes</td><td>1120.49</td></tr><tr><td>799</td><td>Road-550-W Yellow, 42</td><td>Road Bikes</td><td>1120.49</td></tr><tr><td>800</td><td>Road-550-W Yellow, 44</td><td>Road Bikes</td><td>1120.49</td></tr><tr><td>801</td><td>Road-550-W Yellow, 48</td><td>Road Bikes</td><td>1120.49</td></tr><tr><td>749</td><td>Road-150 Red, 62</td><td>Road Bikes</td><td>3578.27</td></tr><tr><td>750</td><td>Road-150 Red, 44</td><td>Road Bikes</td><td>3578.27</td></tr><tr><td>751</td><td>Road-150 Red, 48</td><td>Road Bikes</td><td>3578.27</td></tr><tr><td>752</td><td>Road-150 Red, 52</td><td>Road Bikes</td><td>3578.27</td></tr><tr><td>753</td><td>Road-150 Red, 56</td><td>Road Bikes</td><td>3578.27</td></tr><tr><td>754</td><td>Road-450 Red, 58</td><td>Road Bikes</td><td>1457.99</td></tr><tr><td>755</td><td>Road-450 Red, 60</td><td>Road Bikes</td><td>1457.99</td></tr><tr><td>756</td><td>Road-450 Red, 44</td><td>Road Bikes</td><td>1457.99</td></tr><tr><td>757</td><td>Road-450 Red, 48</td><td>Road Bikes</td><td>1457.99</td></tr><tr><td>758</td><td>Road-450 Red, 52</td><td>Road Bikes</td><td>1457.99</td></tr><tr><td>759</td><td>Road-650 Red, 58</td><td>Road Bikes</td><td>782.99</td></tr><tr><td>760</td><td>Road-650 Red, 60</td><td>Road Bikes</td><td>782.99</td></tr><tr><td>761</td><td>Road-650 Red, 62</td><td>Road Bikes</td><td>782.99</td></tr><tr><td>762</td><td>Road-650 Red, 44</td><td>Road Bikes</td><td>782.99</td></tr><tr><td>763</td><td>Road-650 Red, 48</td><td>Road Bikes</td><td>782.99</td></tr><tr><td>764</td><td>Road-650 Red, 52</td><td>Road Bikes</td><td>782.99</td></tr><tr><td>765</td><td>Road-650 Black, 58</td><td>Road Bikes</td><td>782.99</td></tr><tr><td>766</td><td>Road-650 Black, 60</td><td>Road Bikes</td><td>782.99</td></tr><tr><td>767</td><td>Road-650 Black, 62</td><td>Road Bikes</td><td>782.99</td></tr><tr><td>768</td><td>Road-650 Black, 44</td><td>Road Bikes</td><td>782.99</td></tr><tr><td>769</td><td>Road-650 Black, 48</td><td>Road Bikes</td><td>782.99</td></tr><tr><td>770</td><td>Road-650 Black, 52</td><td>Road Bikes</td><td>782.99</td></tr></tbody></table></div>"
      ]
     },
     "metadata": {
      "application/vnd.databricks.v1+output": {
       "addedWidgets": {},
       "aggData": [],
       "aggError": "",
       "aggOverflow": false,
       "aggSchema": [],
       "aggSeriesLimitReached": false,
       "aggType": "",
       "arguments": {},
       "columnCustomDisplayInfos": {},
       "data": [
        [
         973,
         "Road-350-W Yellow, 40",
         "Road Bikes",
         1700.99
        ],
        [
         974,
         "Road-350-W Yellow, 42",
         "Road Bikes",
         1700.99
        ],
        [
         975,
         "Road-350-W Yellow, 44",
         "Road Bikes",
         1700.99
        ],
        [
         976,
         "Road-350-W Yellow, 48",
         "Road Bikes",
         1700.99
        ],
        [
         977,
         "Road-750 Black, 58",
         "Road Bikes",
         539.99
        ],
        [
         997,
         "Road-750 Black, 44",
         "Road Bikes",
         539.99
        ],
        [
         998,
         "Road-750 Black, 48",
         "Road Bikes",
         539.99
        ],
        [
         999,
         "Road-750 Black, 52",
         "Road Bikes",
         539.99
        ],
        [
         789,
         "Road-250 Red, 44",
         "Road Bikes",
         2443.35
        ],
        [
         790,
         "Road-250 Red, 48",
         "Road Bikes",
         2443.35
        ],
        [
         791,
         "Road-250 Red, 52",
         "Road Bikes",
         2443.35
        ],
        [
         792,
         "Road-250 Red, 58",
         "Road Bikes",
         2443.35
        ],
        [
         793,
         "Road-250 Black, 44",
         "Road Bikes",
         2443.35
        ],
        [
         794,
         "Road-250 Black, 48",
         "Road Bikes",
         2443.35
        ],
        [
         795,
         "Road-250 Black, 52",
         "Road Bikes",
         2443.35
        ],
        [
         796,
         "Road-250 Black, 58",
         "Road Bikes",
         2443.35
        ],
        [
         797,
         "Road-550-W Yellow, 38",
         "Road Bikes",
         1120.49
        ],
        [
         798,
         "Road-550-W Yellow, 40",
         "Road Bikes",
         1120.49
        ],
        [
         799,
         "Road-550-W Yellow, 42",
         "Road Bikes",
         1120.49
        ],
        [
         800,
         "Road-550-W Yellow, 44",
         "Road Bikes",
         1120.49
        ],
        [
         801,
         "Road-550-W Yellow, 48",
         "Road Bikes",
         1120.49
        ],
        [
         749,
         "Road-150 Red, 62",
         "Road Bikes",
         3578.27
        ],
        [
         750,
         "Road-150 Red, 44",
         "Road Bikes",
         3578.27
        ],
        [
         751,
         "Road-150 Red, 48",
         "Road Bikes",
         3578.27
        ],
        [
         752,
         "Road-150 Red, 52",
         "Road Bikes",
         3578.27
        ],
        [
         753,
         "Road-150 Red, 56",
         "Road Bikes",
         3578.27
        ],
        [
         754,
         "Road-450 Red, 58",
         "Road Bikes",
         1457.99
        ],
        [
         755,
         "Road-450 Red, 60",
         "Road Bikes",
         1457.99
        ],
        [
         756,
         "Road-450 Red, 44",
         "Road Bikes",
         1457.99
        ],
        [
         757,
         "Road-450 Red, 48",
         "Road Bikes",
         1457.99
        ],
        [
         758,
         "Road-450 Red, 52",
         "Road Bikes",
         1457.99
        ],
        [
         759,
         "Road-650 Red, 58",
         "Road Bikes",
         782.99
        ],
        [
         760,
         "Road-650 Red, 60",
         "Road Bikes",
         782.99
        ],
        [
         761,
         "Road-650 Red, 62",
         "Road Bikes",
         782.99
        ],
        [
         762,
         "Road-650 Red, 44",
         "Road Bikes",
         782.99
        ],
        [
         763,
         "Road-650 Red, 48",
         "Road Bikes",
         782.99
        ],
        [
         764,
         "Road-650 Red, 52",
         "Road Bikes",
         782.99
        ],
        [
         765,
         "Road-650 Black, 58",
         "Road Bikes",
         782.99
        ],
        [
         766,
         "Road-650 Black, 60",
         "Road Bikes",
         782.99
        ],
        [
         767,
         "Road-650 Black, 62",
         "Road Bikes",
         782.99
        ],
        [
         768,
         "Road-650 Black, 44",
         "Road Bikes",
         782.99
        ],
        [
         769,
         "Road-650 Black, 48",
         "Road Bikes",
         782.99
        ],
        [
         770,
         "Road-650 Black, 52",
         "Road Bikes",
         782.99
        ]
       ],
       "datasetInfos": [],
       "dbfsResultPath": null,
       "isJsonSchema": true,
       "metadata": {},
       "overflow": false,
       "plotOptions": {
        "customPlotOptions": {},
        "displayType": "table",
        "pivotAggregation": null,
        "pivotColumns": null,
        "xColumns": null,
        "yColumns": null
       },
       "removedWidgets": [],
       "schema": [
        {
         "metadata": "{}",
         "name": "ProductID",
         "type": "\"long\""
        },
        {
         "metadata": "{}",
         "name": "ProductName",
         "type": "\"string\""
        },
        {
         "metadata": "{}",
         "name": "Category",
         "type": "\"string\""
        },
        {
         "metadata": "{}",
         "name": "ListPrice",
         "type": "\"double\""
        }
       ],
       "type": "table"
      }
     },
     "output_type": "display_data"
    },
    {
     "output_type": "display_data",
     "data": {
      "text/plain": [
       "Databricks visualization. Run in Databricks to view."
      ]
     },
     "metadata": {
      "application/vnd.databricks.v1.subcommand+json": {
       "baseErrorDetails": null,
       "bindings": {},
       "collapsed": false,
       "command": "%python\n__backend_agg_display_orig = display\n__backend_agg_dfs = []\ndef __backend_agg_display_new(df):\n    __backend_agg_df_modules = [\"pandas.core.frame\", \"databricks.koalas.frame\", \"pyspark.sql.dataframe\", \"pyspark.pandas.frame\", \"pyspark.sql.connect.dataframe\"]\n    if (type(df).__module__ in __backend_agg_df_modules and type(df).__name__ == 'DataFrame') or isinstance(df, list):\n        __backend_agg_dfs.append(df)\n\ndisplay = __backend_agg_display_new\n\ndef __backend_agg_user_code_fn():\n    import base64\n    exec(base64.standard_b64decode(\"aW1wb3J0IHBhbmRhcyBhcyBwZAoKdXJsID0gJ2h0dHBzOi8vcmF3LmdpdGh1YnVzZXJjb250ZW50LmNvbS9NaWNyb3NvZnRMZWFybmluZy9tc2xlYXJuLWRhdGFicmlja3MvbWFpbi9kYXRhL3Byb2R1Y3RzLmNzdicKZGYgPSBwZC5yZWFkX2Nzdih1cmwpCmRpc3BsYXkoZGYp\").decode())\n\ntry:\n    # run user code\n    __backend_agg_user_code_fn()\n\n    #reset display function\n    display = __backend_agg_display_orig\n\n    if len(__backend_agg_dfs) > 0:\n        # create a temp view\n        if type(__backend_agg_dfs[0]).__module__ == \"databricks.koalas.frame\":\n            # koalas dataframe\n            __backend_agg_dfs[0].to_spark().createOrReplaceTempView(\"DatabricksView490fd95\")\n        elif type(__backend_agg_dfs[0]).__module__ == \"pandas.core.frame\" or isinstance(__backend_agg_dfs[0], list):\n            # pandas dataframe\n            spark.createDataFrame(__backend_agg_dfs[0]).createOrReplaceTempView(\"DatabricksView490fd95\")\n        else:\n            __backend_agg_dfs[0].createOrReplaceTempView(\"DatabricksView490fd95\")\n        #run backend agg\n        display(spark.sql(\"\"\"WITH q AS (select * from DatabricksView490fd95) SELECT `Category`,COUNT(`ProductID`) `column_f2fcc2cf32` FROM q GROUP BY `Category`\"\"\"))\n    else:\n        displayHTML(\"dataframe no longer exists. If you're using dataframe.display(), use display(dataframe) instead.\")\n\n\nfinally:\n    spark.sql(\"drop view if exists DatabricksView490fd95\")\n    display = __backend_agg_display_orig\n    del __backend_agg_display_new\n    del __backend_agg_display_orig\n    del __backend_agg_dfs\n    del __backend_agg_user_code_fn\n\n",
       "commandTitle": "Visualização 1",
       "commandType": "auto",
       "commandVersion": 0,
       "commentThread": [],
       "commentsVisible": false,
       "contentSha256Hex": null,
       "customPlotOptions": {
        "redashChart": [
         {
          "key": "type",
          "value": "CHART"
         },
         {
          "key": "options",
          "value": {
           "alignYAxesAtZero": true,
           "coefficient": 1,
           "columnConfigurationMap": {
            "x": {
             "column": "Category",
             "id": "column_f2fcc2cf30"
            },
            "y": [
             {
              "column": "ProductID",
              "id": "column_f2fcc2cf32",
              "transform": "COUNT"
             }
            ]
           },
           "dateTimeFormat": "DD/MM/YYYY HH:mm",
           "direction": {
            "type": "counterclockwise"
           },
           "error_y": {
            "type": "data",
            "visible": true
           },
           "globalSeriesType": "column",
           "isAggregationOn": true,
           "legend": {
            "traceorder": "normal"
           },
           "missingValuesAsZero": true,
           "numberFormat": "0,0.[00000]",
           "percentFormat": "0[.]00%",
           "series": {
            "error_y": {
             "type": "data",
             "visible": true
            },
            "stacking": null
           },
           "seriesOptions": {
            "column_f2fcc2cf32": {
             "type": "column",
             "yAxis": 0
            }
           },
           "showDataLabels": false,
           "sizemode": "diameter",
           "sortX": true,
           "sortY": true,
           "swappedAxes": false,
           "textFormat": "",
           "useAggregationsUi": true,
           "valuesOptions": {},
           "version": 2,
           "xAxis": {
            "labels": {
             "enabled": true
            },
            "type": "-"
           },
           "yAxis": [
            {
             "type": "-"
            },
            {
             "opposite": true,
             "type": "-"
            }
           ]
          }
         }
        ]
       },
       "datasetPreviewNameToCmdIdMap": {},
       "diffDeletes": [],
       "diffInserts": [],
       "displayType": "redashChart",
       "error": null,
       "errorDetails": null,
       "errorSummary": null,
       "errorTraceType": null,
       "finishTime": 0,
       "globalVars": {},
       "guid": "",
       "height": "auto",
       "hideCommandCode": false,
       "hideCommandResult": false,
       "iPythonMetadata": null,
       "inputWidgets": {},
       "isLockedInExamMode": false,
       "latestUser": "a user",
       "latestUserId": null,
       "listResultMetadata": null,
       "metadata": {},
       "nuid": "916fe3e7-dd75-44cf-bb80-df584bff93c7",
       "origId": 0,
       "parentHierarchy": [],
       "pivotAggregation": null,
       "pivotColumns": null,
       "position": 2.0,
       "resultDbfsErrorMessage": null,
       "resultDbfsStatus": "INLINED_IN_TREE",
       "results": null,
       "showCommandTitle": false,
       "startTime": 0,
       "state": "input",
       "streamStates": {},
       "subcommandOptions": {
        "queryPlan": {
         "groups": [
          {
           "column": "Category",
           "type": "column"
          }
         ],
         "selects": [
          {
           "column": "Category",
           "type": "column"
          },
          {
           "alias": "column_f2fcc2cf32",
           "args": [
            {
             "column": "ProductID",
             "type": "column"
            }
           ],
           "function": "COUNT",
           "type": "function"
          }
         ]
        }
       },
       "submitTime": 0,
       "subtype": "tableResultSubCmd.visualization",
       "tableResultIndex": 0,
       "tableResultSettingsMap": {},
       "useConsistentColors": false,
       "version": "CommandV1",
       "width": "auto",
       "workflows": [],
       "xColumns": null,
       "yColumns": null
      }
     },
     "output_type": "display_data"
    }
   ],
   "source": [
    "import pandas as pd\n",
    "\n",
    "url = 'https://raw.githubusercontent.com/MicrosoftLearning/mslearn-databricks/main/data/products.csv'\n",
    "df = pd.read_csv(url)\n",
    "df_filtrado = df[df['Category'] == 'Road Bikes']\n",
    "display(df_filtrado)"
   ]
  }
 ],
 "metadata": {
  "application/vnd.databricks.v1+notebook": {
   "computePreferences": null,
   "dashboards": [],
   "environmentMetadata": {
    "base_environment": "",
    "environment_version": "2"
   },
   "inputWidgetPreferences": null,
   "language": "python",
   "notebookMetadata": {
    "mostRecentlyExecutedCommandWithImplicitDF": {
     "commandId": 7288102940352685,
     "dataframes": [
      "_sqldf"
     ]
    },
    "pythonIndentUnit": 4
   },
   "notebookName": "Notebook sem título 2025-05-31 21:29:25",
   "widgets": {}
  },
  "language_info": {
   "name": "python"
  }
 },
 "nbformat": 4,
 "nbformat_minor": 0
}
